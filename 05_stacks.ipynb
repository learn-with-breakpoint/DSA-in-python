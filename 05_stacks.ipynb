{
 "cells": [
  {
   "cell_type": "markdown",
   "metadata": {},
   "source": [
    "**Introduction to Stacks in Python**\n",
    "=====================================\n",
    "\n",
    "A stack is a fundamental data structure in computer science that is used to store and retrieve elements in a specific order. It follows the Last In First Out (LIFO) principle, meaning that the last element added to the stack is the first one to be removed.\n",
    "\n",
    "**What is a Stack?**\n",
    "-------------------\n",
    "\n",
    "Imagine a stack of plates. When you add a new plate, you place it on top of the existing ones. When you remove a plate, you take it from the top of the stack. This is the basic idea behind a stack data structure.\n",
    "\n",
    "**Basic Operations**\n",
    "-------------------\n",
    "\n",
    "A stack supports the following basic operations:\n",
    "\n",
    "* **Push**: Adds an element to the top of the stack.\n",
    "* **Pop**: Removes the top element from the stack.\n",
    "* **Peek**: Returns the top element from the stack without removing it.\n",
    "\n",
    "**Python Implementation**\n",
    "-----------------------\n",
    "\n",
    "In Python, we can implement a stack using a list. The `append` method is used to push an element onto the stack, and the `pop` method is used to remove the top element. Here is a basic example:\n"
   ]
  },
  {
   "cell_type": "code",
   "execution_count": null,
   "metadata": {},
   "outputs": [],
   "source": [
    "class Stack:\n",
    "    def __init__(self):\n",
    "        self.stack = []\n",
    "\n",
    "    def push(self, element):\n",
    "        self.stack.append(element)\n",
    "\n",
    "    def pop(self):\n",
    "        if self.is_empty():\n",
    "            return None\n",
    "        return self.stack.pop()\n",
    "\n",
    "    def peek(self):\n",
    "        if self.is_empty():\n",
    "            return None\n",
    "        return self.stack[-1]\n",
    "\n",
    "    def is_empty(self):\n",
    "        return len(self.stack) == 0"
   ]
  },
  {
   "cell_type": "markdown",
   "metadata": {},
   "source": [
    "## Using Python List as a Stack: Downsides\n",
    "\n",
    "Python lists can be used as stacks, but there are some downsides to this approach:\n",
    "\n",
    "### 1. **Inefficiency**\n",
    "\n",
    "Python lists are designed to be dynamically sized arrays. When you use a list as a stack, you might not have strict control over the size of the stack, leading to inefficiencies.\n",
    "\n",
    "### 2. **Slow Push/Pop Operations**\n",
    "\n",
    "Python lists are implemented as dynamic arrays, which means they need to shift all elements when a new element is added or an element is removed. This can lead to O(n) time complexity for push and pop operations, where n is the number of elements in the list.\n",
    "\n",
    "### 3. **No Compile-Time Checking**\n",
    "\n",
    "Since Python lists are general-purpose data structures, they don't have compile-time checking for stack operations. This can lead to runtime errors if you're not careful about using the list as a stack.\n",
    "\n",
    "### 4. **No Support for Multiple Stacks**\n",
    "\n",
    "If you need to implement multiple stacks within the same list, it can lead to complex and hard-to-maintain code.\n",
    "\n",
    "### 5. **No Exception Handling**\n",
    "\n",
    "Python lists don't raise exceptions for stack overflows (when the stack is full) or underflows (when the stack is empty). You need to implement additional logic to handle these scenarios.\n",
    "\n",
    "### 6. **Debugging Inefficiencies**\n",
    "\n",
    "Using a list as a stack can make it harder to debug your code, since it's not obvious that the list is being used as a stack.\n",
    "\n"
   ]
  },
  {
   "cell_type": "markdown",
   "metadata": {},
   "source": [
    "**Example Use Cases**\n",
    "---------------------\n",
    "\n",
    "* Evaluating postfix expressions\n",
    "* Converting infix expressions to postfix\n",
    "* Checking for balanced parentheses\n",
    "* Implementing recursive algorithms iteratively\n",
    "\n",
    "In the next section, we will explore more advanced topics related to stacks, such as implementing a stack using a linked list and handling edge cases."
   ]
  },
  {
   "cell_type": "code",
   "execution_count": 4,
   "metadata": {},
   "outputs": [
    {
     "name": "stdout",
     "output_type": "stream",
     "text": [
      "top element in my stack is  3\n",
      "removed element is 3\n",
      "deque(['element_1', ['list of elements']])\n"
     ]
    }
   ],
   "source": [
    "from collections import deque\n",
    "\n",
    "my_stack = deque()\n",
    "\n",
    "# pushing an elements to the stack.\n",
    "my_stack.append(\"element_1\")\n",
    "my_stack.append([\"list of elements\"])\n",
    "my_stack.append(3)\n",
    "# peaking elements\n",
    "print(\"top element in my stack is \", my_stack[-1])\n",
    "\n",
    "# removing element\n",
    "print(\"removed element is\", my_stack.pop())\n",
    "\n",
    "# print the stack\n",
    "print(my_stack)"
   ]
  },
  {
   "cell_type": "code",
   "execution_count": 8,
   "metadata": {},
   "outputs": [],
   "source": [
    "class BrowserHistory(object):\n",
    "    def __init__(self) -> None:\n",
    "        super().__init__()\n",
    "        self.backward_history = deque()\n",
    "        self.forward_history = deque()\n",
    "        self.cur_url = None\n",
    "\n",
    "    def visit(self, URL):\n",
    "        if self.cur_url is not None:\n",
    "            self.backward_history.append(self.cur_url)\n",
    "        self.cur_url = URL\n",
    "\n",
    "    def current_history(self):\n",
    "        print(self.backward_history)\n",
    "\n",
    "    def go_back(self):\n",
    "        if len(self.backward_history) > 0:\n",
    "            # first add the current URL to forward\n",
    "            self.forward_history.append(self.cur_url)\n",
    "            # set the cur URL\n",
    "            self.cur_url = self.backward_history.pop()\n",
    "            print(f\"currently at {self.cur_url}\")\n",
    "        else:\n",
    "            print(\"no history left\")\n",
    "\n",
    "    def go_forward(self):\n",
    "        if len(self.forward_history) > 0:\n",
    "            # add the current page to back history\n",
    "            self.backward_history.append(self.cur_url)\n",
    "            # set hte cur URL\n",
    "            self.cur_url = self.forward_history.pop()\n",
    "            print(f\"currently at {self.cur_url}\")\n",
    "        else:\n",
    "            print(\"this is the latest page.\")"
   ]
  },
  {
   "cell_type": "code",
   "execution_count": 9,
   "metadata": {},
   "outputs": [
    {
     "name": "stdout",
     "output_type": "stream",
     "text": [
      "deque(['google.com', 'yahoo.com', 'msn.com'])\n",
      "currently at msn.com\n",
      "currently at yahoo.com\n",
      "currently at google.com\n",
      "current URL google.com\n",
      "currently at yahoo.com\n",
      "currently at msn.com\n",
      "current URL msn.com\n"
     ]
    }
   ],
   "source": [
    "my_history = BrowserHistory()\n",
    "my_history.visit(\"google.com\")\n",
    "my_history.visit(\"yahoo.com\")\n",
    "my_history.visit(\"msn.com\")\n",
    "my_history.visit(\"apple.com\")\n",
    "\n",
    "# print the history\n",
    "my_history.current_history()\n",
    "\n",
    "# go back 3 pages\n",
    "my_history.go_back()\n",
    "my_history.go_back()\n",
    "my_history.go_back()\n",
    "\n",
    "print(\"current URL\", my_history.cur_url)\n",
    "\n",
    "# go forward 2 times\n",
    "my_history.go_forward()\n",
    "my_history.go_forward()\n",
    "print(\"current URL\", my_history.cur_url)"
   ]
  },
  {
   "cell_type": "code",
   "execution_count": null,
   "metadata": {},
   "outputs": [],
   "source": []
  }
 ],
 "metadata": {
  "kernelspec": {
   "display_name": "Python 3",
   "language": "python",
   "name": "python3"
  },
  "language_info": {
   "codemirror_mode": {
    "name": "ipython",
    "version": 3
   },
   "file_extension": ".py",
   "mimetype": "text/x-python",
   "name": "python",
   "nbconvert_exporter": "python",
   "pygments_lexer": "ipython3",
   "version": "3.12.6"
  }
 },
 "nbformat": 4,
 "nbformat_minor": 2
}
